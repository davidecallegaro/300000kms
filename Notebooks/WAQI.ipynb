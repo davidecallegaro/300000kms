{
 "cells": [
  {
   "cell_type": "markdown",
   "metadata": {},
   "source": [
    "WAQI - World Air Quality Index \n",
    "===="
   ]
  },
  {
   "cell_type": "markdown",
   "metadata": {},
   "source": [
    "## Libraries"
   ]
  },
  {
   "cell_type": "code",
   "execution_count": 1,
   "metadata": {},
   "outputs": [],
   "source": [
    "import networkx as nx\n",
    "import geopandas as gpd\n",
    "import pandas as pd\n",
    "import numpy as np\n",
    "import matplotlib.pyplot as plt\n",
    "import overpy\n",
    "import shapely\n",
    "import geojsonio as gjs\n",
    "import json\n",
    "import ipyleaflet as ipy\n",
    "import osmnx as ox\n",
    "from shapely.geometry import Point, LineString, Polygon \n",
    "from descartes import PolygonPatch \n",
    "from IPython.display import IFrame "
   ]
  },
  {
   "cell_type": "code",
   "execution_count": 2,
   "metadata": {},
   "outputs": [],
   "source": [
    "ox.config(log_console=True, use_cache=True)"
   ]
  },
  {
   "cell_type": "markdown",
   "metadata": {},
   "source": [
    "## Data"
   ]
  },
  {
   "cell_type": "markdown",
   "metadata": {},
   "source": [
    "### Covid WAQI Data"
   ]
  },
  {
   "cell_type": "code",
   "execution_count": 2,
   "metadata": {},
   "outputs": [],
   "source": [
    "'''\n",
    "waqi_2015H1 = pd.read_csv('../WAQI/waqi-covid-2015H1.csv',sep=',', comment='#')\n",
    "waqi_2016H1 = pd.read_csv('../WAQI/waqi-covid-2016H1.csv',sep=',', comment='#')\n",
    "waqi_2017H1 = pd.read_csv('../WAQI/waqi-covid-2017H1.csv',sep=',', comment='#')\n",
    "waqi_2018H1 = pd.read_csv('../WAQI/waqi-covid-2018H1.csv',sep=',', comment='#')\n",
    "waqi_2019Q1 = pd.read_csv('../WAQI/waqi-covid-2019Q1.csv',sep=',', comment='#')\n",
    "waqi_2019Q2 = pd.read_csv('../WAQI/waqi-covid-2019Q2.csv',sep=',', comment='#')\n",
    "waqi_2019Q3 = pd.read_csv('../WAQI/waqi-covid-2019Q3.csv',sep=',', comment='#')\n",
    "waqi_2019Q4 = pd.read_csv('../WAQI/waqi-covid-2019Q4.csv',sep=',', comment='#')\n",
    "waqi_2020 = pd.read_csv('../WAQI/waqi-covid-2020.csv',sep=',', comment='#')\n",
    "\n",
    "waqi_2015H1B = waqi_2015H1[(waqi_2015H1['Country'] == 'ES') & (waqi_2015H1['Specie'] == 'no2')]\n",
    "waqi_2016H1B = waqi_2016H1[(waqi_2016H1['Country'] == 'ES') & (waqi_2016H1['Specie'] == 'no2')]\n",
    "waqi_2017H1B = waqi_2017H1[(waqi_2017H1['Country'] == 'ES') & (waqi_2017H1['Specie'] == 'no2')]\n",
    "waqi_2018H1B = waqi_2018H1[(waqi_2018H1['Country'] == 'ES') & (waqi_2018H1['Specie'] == 'no2')]\n",
    "waqi_2019Q1B = waqi_2019Q1[(waqi_2019Q1['Country'] == 'ES') & (waqi_2019Q1['Specie'] == 'no2')]\n",
    "waqi_2019Q2B = waqi_2019Q2[(waqi_2019Q2['Country'] == 'ES') & (waqi_2019Q2['Specie'] == 'no2')]\n",
    "waqi_2019Q3B = waqi_2019Q3[(waqi_2019Q3['Country'] == 'ES') & (waqi_2019Q3['Specie'] == 'no2')]\n",
    "waqi_2019Q4B = waqi_2019Q4[(waqi_2019Q4['Country'] == 'ES') & (waqi_2019Q4['Specie'] == 'no2')]\n",
    "waqi_2020B = waqi_2020[(waqi_2020['Country'] == 'ES') & (waqi_2020['Specie'] == 'no2')]\n",
    "\n",
    "waqiB = pd.concat([waqi_2015H1B,waqi_2016H1B,waqi_2017H1B,waqi_2018H1B,waqi_2019Q1B,waqi_2019Q2B,waqi_2019Q3B,waqi_2019Q4B,waqi_2020B]).sort_values(by='Date')\n",
    "waqiB.index = np.arange(1, len(waqiB)+1)\n",
    "waqiB.head()\n",
    "'''"
   ]
  },
  {
   "cell_type": "markdown",
   "metadata": {},
   "source": [
    "### WAQI Data"
   ]
  },
  {
   "cell_type": "markdown",
   "metadata": {},
   "source": [
    "#### Idea\n",
    "\n",
    "The datasets information was commented in the first three lines of each file. We decided to combine all the files into one DataFrame, scraping the information of Latitude and Longitude and created a column to populate each row with geographic coordinates."
   ]
  },
  {
   "cell_type": "code",
   "execution_count": 27,
   "metadata": {},
   "outputs": [],
   "source": [
    "'''\n",
    "os.getcwd()\n",
    "\n",
    "import os\n",
    "Path = \"../waqi/WAQI-1/\"\n",
    "filelist = os.listdir(Path)\n",
    "location = []\n",
    "WAQI_all = pd.DataFrame()\n",
    "for i in filelist:\n",
    "    if i.endswith(\".csv\"):  # You could also add \"and i.startswith('f')\n",
    "        with open(Path + i, 'r') as f:\n",
    "            df = pd.read_csv(Path + i, comment = '#')\n",
    "            length = len(df)           \n",
    "            for line in f:\n",
    "                if line.startswith('#Station'):\n",
    "                    second_row = line.split(' ')\n",
    "                    \n",
    "                    latitude = []\n",
    "                    lat = [float(second_row[-3][:-1])] * length\n",
    "                    latitude.extend(lat)                   \n",
    "                    df['Latitude'] = latitude\n",
    "                    \n",
    "                    longitude = []\n",
    "                    lon = [float(second_row[-1])] * length\n",
    "                    longitude.extend(lon)\n",
    "                    df['Longitude'] = longitude\n",
    "                    \n",
    "                    WAQI_all = pd.concat([WAQI_all, df], ignore_index=True)\n",
    "\n",
    "pd.set_option('display.max_columns', None)\n",
    "\n",
    "WAQI_all = WAQI_all[['date','no2','no2_min','no2_max','Latitude','Longitude']]\n",
    "WAQI_all.head()\n",
    "\n",
    "WAQI_all.to_csv(r'../waqi/WAQI_all.csv', index = False)\n",
    "'''"
   ]
  },
  {
   "cell_type": "code",
   "execution_count": 3,
   "metadata": {},
   "outputs": [
    {
     "data": {
      "text/html": [
       "<div>\n",
       "<style scoped>\n",
       "    .dataframe tbody tr th:only-of-type {\n",
       "        vertical-align: middle;\n",
       "    }\n",
       "\n",
       "    .dataframe tbody tr th {\n",
       "        vertical-align: top;\n",
       "    }\n",
       "\n",
       "    .dataframe thead th {\n",
       "        text-align: right;\n",
       "    }\n",
       "</style>\n",
       "<table border=\"1\" class=\"dataframe\">\n",
       "  <thead>\n",
       "    <tr style=\"text-align: right;\">\n",
       "      <th></th>\n",
       "      <th>date</th>\n",
       "      <th>no2</th>\n",
       "      <th>no2_min</th>\n",
       "      <th>no2_max</th>\n",
       "      <th>geometry</th>\n",
       "    </tr>\n",
       "  </thead>\n",
       "  <tbody>\n",
       "    <tr>\n",
       "      <th>0</th>\n",
       "      <td>2020-05-07</td>\n",
       "      <td>9</td>\n",
       "      <td>9</td>\n",
       "      <td>9</td>\n",
       "      <td>POINT (-5.95849 43.57532)</td>\n",
       "    </tr>\n",
       "    <tr>\n",
       "      <th>1</th>\n",
       "      <td>2020-05-06</td>\n",
       "      <td>7.5</td>\n",
       "      <td>2</td>\n",
       "      <td>17</td>\n",
       "      <td>POINT (-5.95849 43.57532)</td>\n",
       "    </tr>\n",
       "    <tr>\n",
       "      <th>2</th>\n",
       "      <td>2020-05-05</td>\n",
       "      <td>11.5</td>\n",
       "      <td>3</td>\n",
       "      <td>21</td>\n",
       "      <td>POINT (-5.95849 43.57532)</td>\n",
       "    </tr>\n",
       "    <tr>\n",
       "      <th>3</th>\n",
       "      <td>2020-05-04</td>\n",
       "      <td>12</td>\n",
       "      <td>3</td>\n",
       "      <td>29</td>\n",
       "      <td>POINT (-5.95849 43.57532)</td>\n",
       "    </tr>\n",
       "    <tr>\n",
       "      <th>4</th>\n",
       "      <td>2020-05-03</td>\n",
       "      <td>3.9</td>\n",
       "      <td>1</td>\n",
       "      <td>15</td>\n",
       "      <td>POINT (-5.95849 43.57532)</td>\n",
       "    </tr>\n",
       "  </tbody>\n",
       "</table>\n",
       "</div>"
      ],
      "text/plain": [
       "         date   no2 no2_min no2_max                   geometry\n",
       "0  2020-05-07     9       9       9  POINT (-5.95849 43.57532)\n",
       "1  2020-05-06   7.5       2      17  POINT (-5.95849 43.57532)\n",
       "2  2020-05-05  11.5       3      21  POINT (-5.95849 43.57532)\n",
       "3  2020-05-04    12       3      29  POINT (-5.95849 43.57532)\n",
       "4  2020-05-03   3.9       1      15  POINT (-5.95849 43.57532)"
      ]
     },
     "execution_count": 3,
     "metadata": {},
     "output_type": "execute_result"
    }
   ],
   "source": [
    "WAQI_all = pd.read_csv('../waqi/WAQI_all.csv')\n",
    "\n",
    "gdf_WAQI_all = gpd.GeoDataFrame(WAQI_all, geometry=gpd.points_from_xy(WAQI_all.Longitude, WAQI_all.Latitude))\n",
    "gdf_WAQI_all = gdf_WAQI_all.drop(['Longitude','Latitude'],axis=1)\n",
    "\n",
    "gdf_WAQI_all.head()"
   ]
  },
  {
   "cell_type": "markdown",
   "metadata": {},
   "source": [
    "### Plot"
   ]
  },
  {
   "cell_type": "markdown",
   "metadata": {},
   "source": [
    "#### Idea\n",
    "\n",
    "Import the map of spain from GeoPandas and plot the station points combining with the map."
   ]
  },
  {
   "cell_type": "code",
   "execution_count": 3,
   "metadata": {},
   "outputs": [],
   "source": [
    "import geoplot\n",
    "import mapclassify"
   ]
  },
  {
   "cell_type": "code",
   "execution_count": 4,
   "metadata": {},
   "outputs": [],
   "source": [
    "world = gpd.read_file(gpd.datasets.get_path('naturalearth_lowres'))\n",
    "\n",
    "spain = world[world['name'] == ('Spain')]"
   ]
  },
  {
   "cell_type": "code",
   "execution_count": 10,
   "metadata": {},
   "outputs": [
    {
     "data": {
      "text/plain": [
       "<Figure size 2160x1440 with 0 Axes>"
      ]
     },
     "metadata": {},
     "output_type": "display_data"
    },
    {
     "data": {
      "image/png": "[encoded data removed]",
      "text/plain": [
       "<Figure size 432x288 with 1 Axes>"
      ]
     },
     "metadata": {
      "needs_background": "light"
     },
     "output_type": "display_data"
    }
   ],
   "source": [
    "plt.figure(figsize=(30,20))\n",
    "fig, ax = plt.subplots()\n",
    "ax.set_aspect('equal')\n",
    "spain.plot(ax=ax, figsize = (30,20), color='white', edgecolor='black')\n",
    "gdf_WAQI_all.plot(ax=ax, figsize = (30,20), marker='o', color='red',  markersize=1)\n",
    "plt.title(\"Stations in the WAQI dataset.\")\n",
    "\n",
    "plt.show();"
   ]
  },
  {
   "cell_type": "markdown",
   "metadata": {},
   "source": [
    "### Exporting WAQI.geojson"
   ]
  },
  {
   "cell_type": "code",
   "execution_count": null,
   "metadata": {},
   "outputs": [],
   "source": [
    "'''\n",
    "gdf_WAQI_all.to_file(\"../Datasets/gdf_WAQI_all.geojson\", driver='GeoJSON')\n",
    "'''"
   ]
  },
  {
   "cell_type": "code",
   "execution_count": null,
   "metadata": {},
   "outputs": [],
   "source": []
  }
 ],
 "metadata": {
  "kernelspec": {
   "display_name": "Python 3",
   "language": "python",
   "name": "python3"
  },
  "language_info": {
   "codemirror_mode": {
    "name": "ipython",
    "version": 3
   },
   "file_extension": ".py",
   "mimetype": "text/x-python",
   "name": "python",
   "nbconvert_exporter": "python",
   "pygments_lexer": "ipython3",
   "version": "3.7.6"
  }
 },
 "nbformat": 4,
 "nbformat_minor": 4
}
