{
 "cells": [
  {
   "cell_type": "markdown",
   "metadata": {},
   "source": [
    "EEA - European Environment Agency\n",
    "=="
   ]
  },
  {
   "cell_type": "markdown",
   "metadata": {},
   "source": [
    "## Libraries"
   ]
  },
  {
   "cell_type": "code",
   "execution_count": 1,
   "metadata": {},
   "outputs": [],
   "source": [
    "import networkx as nx\n",
    "import geopandas as gpd\n",
    "import pandas as pd\n",
    "import numpy as np\n",
    "import matplotlib.pyplot as plt\n",
    "import overpy\n",
    "import geojsonio as gjs\n",
    "import json\n",
    "import ipyleaflet as ipy\n",
    "import osmnx as ox\n",
    "from shapely.geometry import Point, LineString, Polygon \n",
    "from descartes import PolygonPatch \n",
    "from IPython.display import IFrame "
   ]
  },
  {
   "cell_type": "code",
   "execution_count": 3,
   "metadata": {},
   "outputs": [],
   "source": [
    "ox.config(log_console=True, use_cache=True)"
   ]
  },
  {
   "cell_type": "markdown",
   "metadata": {},
   "source": [
    "## Data preparation"
   ]
  },
  {
   "cell_type": "markdown",
   "metadata": {},
   "source": [
    "### EEA Data"
   ]
  },
  {
   "cell_type": "markdown",
   "metadata": {},
   "source": [
    "#### Idea\n",
    "\n",
    "Combining all the EEA data to one large datasets."
   ]
  },
  {
   "cell_type": "code",
   "execution_count": 22,
   "metadata": {},
   "outputs": [],
   "source": [
    "'''\n",
    "import os\n",
    "import glob2\n",
    "os.chdir(\"../EEA/data\")\n",
    "\n",
    "extension = 'csv'\n",
    "all_filenames = [i for i in glob2.glob('*.{}'.format(extension))]\n",
    "\n",
    "#combine all files in the list\n",
    "combined_csv = pd.concat([pd.read_csv(f) for f in all_filenames])\n",
    "\n",
    "#export to csv\n",
    "combined_csv.to_csv( \"EEA_total.csv\", index=False, encoding='utf-8-sig')\n",
    "\n",
    "os.chdir('/Users/davidecallegaro/Sync/300.000kms/Notebooks')\n",
    "\n",
    "os.getcwd()\n",
    "'''"
   ]
  },
  {
   "cell_type": "markdown",
   "metadata": {},
   "source": [
    "### Meta Data"
   ]
  },
  {
   "cell_type": "code",
   "execution_count": 2,
   "metadata": {},
   "outputs": [],
   "source": [
    "EEA_meta = pd.read_csv('../EEA/PanEuropean_metadata.csv',sep='\\t')\n",
    "EEA_meta = EEA_meta[(EEA_meta['Countrycode'] == 'ES')]\n",
    "EEA_meta = EEA_meta.drop(['Countrycode','Namespace','Timezone','SamplingPoint','SamplingProces','Sample','MeasurementType',\n",
    "               'AirQualityStationType','AirQualityStationNatCode','AirQualityStationEoICode','EquivalenceDemonstrated',\n",
    "               'BuildingDistance','KerbDistance','MeasurementEquipment','AirQualityStationArea','InletHeight',\n",
    "                          'Projection','ObservationDateEnd','AirPollutantCode','ObservationDateBegin','AirQualityNetwork'],\n",
    "                         axis=1)\n",
    "EEA_meta = EEA_meta.drop_duplicates()"
   ]
  },
  {
   "cell_type": "code",
   "execution_count": 15,
   "metadata": {},
   "outputs": [
    {
     "data": {
      "text/html": [
       "<div>\n",
       "<style scoped>\n",
       "    .dataframe tbody tr th:only-of-type {\n",
       "        vertical-align: middle;\n",
       "    }\n",
       "\n",
       "    .dataframe tbody tr th {\n",
       "        vertical-align: top;\n",
       "    }\n",
       "\n",
       "    .dataframe thead th {\n",
       "        text-align: right;\n",
       "    }\n",
       "</style>\n",
       "<table border=\"1\" class=\"dataframe\">\n",
       "  <thead>\n",
       "    <tr style=\"text-align: right;\">\n",
       "      <th></th>\n",
       "      <th>AirQualityStation</th>\n",
       "      <th>Longitude</th>\n",
       "      <th>Latitude</th>\n",
       "      <th>Altitude</th>\n",
       "    </tr>\n",
       "  </thead>\n",
       "  <tbody>\n",
       "    <tr>\n",
       "      <th>24017</th>\n",
       "      <td>STA_ES1982A</td>\n",
       "      <td>0.729556</td>\n",
       "      <td>42.051341</td>\n",
       "      <td>1570.0</td>\n",
       "    </tr>\n",
       "    <tr>\n",
       "      <th>18353</th>\n",
       "      <td>STA_ES0009R</td>\n",
       "      <td>-3.142500</td>\n",
       "      <td>41.274170</td>\n",
       "      <td>1360.0</td>\n",
       "    </tr>\n",
       "    <tr>\n",
       "      <th>24626</th>\n",
       "      <td>STA_ES2083A</td>\n",
       "      <td>-6.192600</td>\n",
       "      <td>43.069600</td>\n",
       "      <td>1253.0</td>\n",
       "    </tr>\n",
       "    <tr>\n",
       "      <th>18228</th>\n",
       "      <td>STA_ES0007R</td>\n",
       "      <td>-3.534170</td>\n",
       "      <td>37.237220</td>\n",
       "      <td>1230.0</td>\n",
       "    </tr>\n",
       "    <tr>\n",
       "      <th>19995</th>\n",
       "      <td>STA_ES1310A</td>\n",
       "      <td>2.214273</td>\n",
       "      <td>42.312078</td>\n",
       "      <td>1226.0</td>\n",
       "    </tr>\n",
       "  </tbody>\n",
       "</table>\n",
       "</div>"
      ],
      "text/plain": [
       "      AirQualityStation  Longitude   Latitude  Altitude\n",
       "24017       STA_ES1982A   0.729556  42.051341    1570.0\n",
       "18353       STA_ES0009R  -3.142500  41.274170    1360.0\n",
       "24626       STA_ES2083A  -6.192600  43.069600    1253.0\n",
       "18228       STA_ES0007R  -3.534170  37.237220    1230.0\n",
       "19995       STA_ES1310A   2.214273  42.312078    1226.0"
      ]
     },
     "execution_count": 15,
     "metadata": {},
     "output_type": "execute_result"
    }
   ],
   "source": [
    "EEA_meta.sort_values(by='Altitude', ascending = False).head()"
   ]
  },
  {
   "cell_type": "code",
   "execution_count": 16,
   "metadata": {},
   "outputs": [
    {
     "data": {
      "text/plain": [
       "661"
      ]
     },
     "execution_count": 16,
     "metadata": {},
     "output_type": "execute_result"
    }
   ],
   "source": [
    "count = pd.unique(EEA_meta['AirQualityStation'])\n",
    "count.size"
   ]
  },
  {
   "cell_type": "markdown",
   "metadata": {},
   "source": [
    "### no2 Data"
   ]
  },
  {
   "cell_type": "code",
   "execution_count": 3,
   "metadata": {},
   "outputs": [],
   "source": [
    "EEA_tryout = pd.read_csv('../EEA/data/EEA_total.csv', sep=',')\n",
    "EEA_tryout = EEA_tryout.drop(['Countrycode','Namespace','SamplingPoint','Sample','SamplingProcess',\n",
    "                              'AirQualityStationEoICode','AirPollutant','AirPollutantCode',\n",
    "                              'AveragingTime','UnitOfMeasurement','Validity','Verification','AirQualityNetwork'\n",
    "                             ],\n",
    "                         axis=1)"
   ]
  },
  {
   "cell_type": "code",
   "execution_count": 18,
   "metadata": {},
   "outputs": [
    {
     "data": {
      "text/html": [
       "<div>\n",
       "<style scoped>\n",
       "    .dataframe tbody tr th:only-of-type {\n",
       "        vertical-align: middle;\n",
       "    }\n",
       "\n",
       "    .dataframe tbody tr th {\n",
       "        vertical-align: top;\n",
       "    }\n",
       "\n",
       "    .dataframe thead th {\n",
       "        text-align: right;\n",
       "    }\n",
       "</style>\n",
       "<table border=\"1\" class=\"dataframe\">\n",
       "  <thead>\n",
       "    <tr style=\"text-align: right;\">\n",
       "      <th></th>\n",
       "      <th>AirQualityStation</th>\n",
       "      <th>Concentration</th>\n",
       "      <th>DatetimeBegin</th>\n",
       "      <th>DatetimeEnd</th>\n",
       "    </tr>\n",
       "  </thead>\n",
       "  <tbody>\n",
       "    <tr>\n",
       "      <th>1181345</th>\n",
       "      <td>STA_ES1672A</td>\n",
       "      <td>8.0</td>\n",
       "      <td>2017-01-01 00:00:00 +01:00</td>\n",
       "      <td>2017-01-01 01:00:00 +01:00</td>\n",
       "    </tr>\n",
       "    <tr>\n",
       "      <th>1181346</th>\n",
       "      <td>STA_ES1672A</td>\n",
       "      <td>9.0</td>\n",
       "      <td>2017-01-01 01:00:00 +01:00</td>\n",
       "      <td>2017-01-01 02:00:00 +01:00</td>\n",
       "    </tr>\n",
       "    <tr>\n",
       "      <th>1181347</th>\n",
       "      <td>STA_ES1672A</td>\n",
       "      <td>11.0</td>\n",
       "      <td>2017-01-01 02:00:00 +01:00</td>\n",
       "      <td>2017-01-01 03:00:00 +01:00</td>\n",
       "    </tr>\n",
       "    <tr>\n",
       "      <th>1181348</th>\n",
       "      <td>STA_ES1672A</td>\n",
       "      <td>8.0</td>\n",
       "      <td>2017-01-01 03:00:00 +01:00</td>\n",
       "      <td>2017-01-01 04:00:00 +01:00</td>\n",
       "    </tr>\n",
       "    <tr>\n",
       "      <th>1181349</th>\n",
       "      <td>STA_ES1672A</td>\n",
       "      <td>9.0</td>\n",
       "      <td>2017-01-01 04:00:00 +01:00</td>\n",
       "      <td>2017-01-01 05:00:00 +01:00</td>\n",
       "    </tr>\n",
       "  </tbody>\n",
       "</table>\n",
       "</div>"
      ],
      "text/plain": [
       "        AirQualityStation  Concentration               DatetimeBegin  \\\n",
       "1181345       STA_ES1672A            8.0  2017-01-01 00:00:00 +01:00   \n",
       "1181346       STA_ES1672A            9.0  2017-01-01 01:00:00 +01:00   \n",
       "1181347       STA_ES1672A           11.0  2017-01-01 02:00:00 +01:00   \n",
       "1181348       STA_ES1672A            8.0  2017-01-01 03:00:00 +01:00   \n",
       "1181349       STA_ES1672A            9.0  2017-01-01 04:00:00 +01:00   \n",
       "\n",
       "                        DatetimeEnd  \n",
       "1181345  2017-01-01 01:00:00 +01:00  \n",
       "1181346  2017-01-01 02:00:00 +01:00  \n",
       "1181347  2017-01-01 03:00:00 +01:00  \n",
       "1181348  2017-01-01 04:00:00 +01:00  \n",
       "1181349  2017-01-01 05:00:00 +01:00  "
      ]
     },
     "execution_count": 18,
     "metadata": {},
     "output_type": "execute_result"
    }
   ],
   "source": [
    "EEA_tryout.sort_values(by='DatetimeBegin').head()"
   ]
  },
  {
   "cell_type": "markdown",
   "metadata": {},
   "source": [
    "## Merging all Datasets"
   ]
  },
  {
   "cell_type": "code",
   "execution_count": 4,
   "metadata": {
    "scrolled": true
   },
   "outputs": [],
   "source": [
    "EEA_final = EEA_meta.merge(EEA_tryout, on=['AirQualityStation'])    "
   ]
  },
  {
   "cell_type": "code",
   "execution_count": 20,
   "metadata": {},
   "outputs": [
    {
     "data": {
      "text/html": [
       "<div>\n",
       "<style scoped>\n",
       "    .dataframe tbody tr th:only-of-type {\n",
       "        vertical-align: middle;\n",
       "    }\n",
       "\n",
       "    .dataframe tbody tr th {\n",
       "        vertical-align: top;\n",
       "    }\n",
       "\n",
       "    .dataframe thead th {\n",
       "        text-align: right;\n",
       "    }\n",
       "</style>\n",
       "<table border=\"1\" class=\"dataframe\">\n",
       "  <thead>\n",
       "    <tr style=\"text-align: right;\">\n",
       "      <th></th>\n",
       "      <th>AirQualityStation</th>\n",
       "      <th>Longitude</th>\n",
       "      <th>Latitude</th>\n",
       "      <th>Altitude</th>\n",
       "      <th>Concentration</th>\n",
       "      <th>DatetimeBegin</th>\n",
       "      <th>DatetimeEnd</th>\n",
       "    </tr>\n",
       "  </thead>\n",
       "  <tbody>\n",
       "    <tr>\n",
       "      <th>2949307</th>\n",
       "      <td>STA_ES1672A</td>\n",
       "      <td>-2.619444</td>\n",
       "      <td>42.518333</td>\n",
       "      <td>480.0</td>\n",
       "      <td>8.0</td>\n",
       "      <td>2017-01-01 00:00:00 +01:00</td>\n",
       "      <td>2017-01-01 01:00:00 +01:00</td>\n",
       "    </tr>\n",
       "    <tr>\n",
       "      <th>2949308</th>\n",
       "      <td>STA_ES1672A</td>\n",
       "      <td>-2.619444</td>\n",
       "      <td>42.518333</td>\n",
       "      <td>480.0</td>\n",
       "      <td>9.0</td>\n",
       "      <td>2017-01-01 01:00:00 +01:00</td>\n",
       "      <td>2017-01-01 02:00:00 +01:00</td>\n",
       "    </tr>\n",
       "    <tr>\n",
       "      <th>2949309</th>\n",
       "      <td>STA_ES1672A</td>\n",
       "      <td>-2.619444</td>\n",
       "      <td>42.518333</td>\n",
       "      <td>480.0</td>\n",
       "      <td>11.0</td>\n",
       "      <td>2017-01-01 02:00:00 +01:00</td>\n",
       "      <td>2017-01-01 03:00:00 +01:00</td>\n",
       "    </tr>\n",
       "    <tr>\n",
       "      <th>2949310</th>\n",
       "      <td>STA_ES1672A</td>\n",
       "      <td>-2.619444</td>\n",
       "      <td>42.518333</td>\n",
       "      <td>480.0</td>\n",
       "      <td>8.0</td>\n",
       "      <td>2017-01-01 03:00:00 +01:00</td>\n",
       "      <td>2017-01-01 04:00:00 +01:00</td>\n",
       "    </tr>\n",
       "    <tr>\n",
       "      <th>2949311</th>\n",
       "      <td>STA_ES1672A</td>\n",
       "      <td>-2.619444</td>\n",
       "      <td>42.518333</td>\n",
       "      <td>480.0</td>\n",
       "      <td>9.0</td>\n",
       "      <td>2017-01-01 04:00:00 +01:00</td>\n",
       "      <td>2017-01-01 05:00:00 +01:00</td>\n",
       "    </tr>\n",
       "  </tbody>\n",
       "</table>\n",
       "</div>"
      ],
      "text/plain": [
       "        AirQualityStation  Longitude   Latitude  Altitude  Concentration  \\\n",
       "2949307       STA_ES1672A  -2.619444  42.518333     480.0            8.0   \n",
       "2949308       STA_ES1672A  -2.619444  42.518333     480.0            9.0   \n",
       "2949309       STA_ES1672A  -2.619444  42.518333     480.0           11.0   \n",
       "2949310       STA_ES1672A  -2.619444  42.518333     480.0            8.0   \n",
       "2949311       STA_ES1672A  -2.619444  42.518333     480.0            9.0   \n",
       "\n",
       "                      DatetimeBegin                 DatetimeEnd  \n",
       "2949307  2017-01-01 00:00:00 +01:00  2017-01-01 01:00:00 +01:00  \n",
       "2949308  2017-01-01 01:00:00 +01:00  2017-01-01 02:00:00 +01:00  \n",
       "2949309  2017-01-01 02:00:00 +01:00  2017-01-01 03:00:00 +01:00  \n",
       "2949310  2017-01-01 03:00:00 +01:00  2017-01-01 04:00:00 +01:00  \n",
       "2949311  2017-01-01 04:00:00 +01:00  2017-01-01 05:00:00 +01:00  "
      ]
     },
     "execution_count": 20,
     "metadata": {},
     "output_type": "execute_result"
    }
   ],
   "source": [
    "EEA_final.sort_values(by='DatetimeBegin').head()"
   ]
  },
  {
   "cell_type": "code",
   "execution_count": 5,
   "metadata": {},
   "outputs": [],
   "source": [
    "gdf_EEA = gpd.GeoDataFrame(EEA_final, geometry=gpd.points_from_xy(EEA_final.Longitude, EEA_final.Latitude))\n",
    "gdf_EEA = gdf_EEA.drop(['Longitude','Latitude'],axis=1)"
   ]
  },
  {
   "cell_type": "code",
   "execution_count": 22,
   "metadata": {},
   "outputs": [
    {
     "data": {
      "text/html": [
       "<div>\n",
       "<style scoped>\n",
       "    .dataframe tbody tr th:only-of-type {\n",
       "        vertical-align: middle;\n",
       "    }\n",
       "\n",
       "    .dataframe tbody tr th {\n",
       "        vertical-align: top;\n",
       "    }\n",
       "\n",
       "    .dataframe thead th {\n",
       "        text-align: right;\n",
       "    }\n",
       "</style>\n",
       "<table border=\"1\" class=\"dataframe\">\n",
       "  <thead>\n",
       "    <tr style=\"text-align: right;\">\n",
       "      <th></th>\n",
       "      <th>AirQualityStation</th>\n",
       "      <th>Altitude</th>\n",
       "      <th>Concentration</th>\n",
       "      <th>DatetimeBegin</th>\n",
       "      <th>DatetimeEnd</th>\n",
       "      <th>geometry</th>\n",
       "    </tr>\n",
       "  </thead>\n",
       "  <tbody>\n",
       "    <tr>\n",
       "      <th>0</th>\n",
       "      <td>STA_ES0001R</td>\n",
       "      <td>917.0</td>\n",
       "      <td>2.66</td>\n",
       "      <td>2019-01-25 01:00:00 +01:00</td>\n",
       "      <td>2019-01-25 02:00:00 +01:00</td>\n",
       "      <td>POINT (-4.35056 39.54694)</td>\n",
       "    </tr>\n",
       "    <tr>\n",
       "      <th>1</th>\n",
       "      <td>STA_ES0001R</td>\n",
       "      <td>917.0</td>\n",
       "      <td>1.91</td>\n",
       "      <td>2019-01-25 02:00:00 +01:00</td>\n",
       "      <td>2019-01-25 03:00:00 +01:00</td>\n",
       "      <td>POINT (-4.35056 39.54694)</td>\n",
       "    </tr>\n",
       "    <tr>\n",
       "      <th>2</th>\n",
       "      <td>STA_ES0001R</td>\n",
       "      <td>917.0</td>\n",
       "      <td>1.43</td>\n",
       "      <td>2019-01-25 03:00:00 +01:00</td>\n",
       "      <td>2019-01-25 04:00:00 +01:00</td>\n",
       "      <td>POINT (-4.35056 39.54694)</td>\n",
       "    </tr>\n",
       "    <tr>\n",
       "      <th>3</th>\n",
       "      <td>STA_ES0001R</td>\n",
       "      <td>917.0</td>\n",
       "      <td>1.12</td>\n",
       "      <td>2019-01-25 04:00:00 +01:00</td>\n",
       "      <td>2019-01-25 05:00:00 +01:00</td>\n",
       "      <td>POINT (-4.35056 39.54694)</td>\n",
       "    </tr>\n",
       "    <tr>\n",
       "      <th>4</th>\n",
       "      <td>STA_ES0001R</td>\n",
       "      <td>917.0</td>\n",
       "      <td>1.18</td>\n",
       "      <td>2019-01-25 05:00:00 +01:00</td>\n",
       "      <td>2019-01-25 06:00:00 +01:00</td>\n",
       "      <td>POINT (-4.35056 39.54694)</td>\n",
       "    </tr>\n",
       "  </tbody>\n",
       "</table>\n",
       "</div>"
      ],
      "text/plain": [
       "  AirQualityStation  Altitude  Concentration               DatetimeBegin  \\\n",
       "0       STA_ES0001R     917.0           2.66  2019-01-25 01:00:00 +01:00   \n",
       "1       STA_ES0001R     917.0           1.91  2019-01-25 02:00:00 +01:00   \n",
       "2       STA_ES0001R     917.0           1.43  2019-01-25 03:00:00 +01:00   \n",
       "3       STA_ES0001R     917.0           1.12  2019-01-25 04:00:00 +01:00   \n",
       "4       STA_ES0001R     917.0           1.18  2019-01-25 05:00:00 +01:00   \n",
       "\n",
       "                  DatetimeEnd                   geometry  \n",
       "0  2019-01-25 02:00:00 +01:00  POINT (-4.35056 39.54694)  \n",
       "1  2019-01-25 03:00:00 +01:00  POINT (-4.35056 39.54694)  \n",
       "2  2019-01-25 04:00:00 +01:00  POINT (-4.35056 39.54694)  \n",
       "3  2019-01-25 05:00:00 +01:00  POINT (-4.35056 39.54694)  \n",
       "4  2019-01-25 06:00:00 +01:00  POINT (-4.35056 39.54694)  "
      ]
     },
     "execution_count": 22,
     "metadata": {},
     "output_type": "execute_result"
    }
   ],
   "source": [
    "gdf_EEA.head()"
   ]
  },
  {
   "cell_type": "markdown",
   "metadata": {},
   "source": [
    "## Plot"
   ]
  },
  {
   "cell_type": "markdown",
   "metadata": {},
   "source": [
    "#### Idea\n",
    "\n",
    "Import the map of spain from GeoPandas and plot the station points combining with the map."
   ]
  },
  {
   "cell_type": "code",
   "execution_count": 6,
   "metadata": {},
   "outputs": [],
   "source": [
    "import geoplot\n",
    "import mapclassify"
   ]
  },
  {
   "cell_type": "code",
   "execution_count": 7,
   "metadata": {},
   "outputs": [
    {
     "data": {
      "text/html": [
       "<div>\n",
       "<style scoped>\n",
       "    .dataframe tbody tr th:only-of-type {\n",
       "        vertical-align: middle;\n",
       "    }\n",
       "\n",
       "    .dataframe tbody tr th {\n",
       "        vertical-align: top;\n",
       "    }\n",
       "\n",
       "    .dataframe thead th {\n",
       "        text-align: right;\n",
       "    }\n",
       "</style>\n",
       "<table border=\"1\" class=\"dataframe\">\n",
       "  <thead>\n",
       "    <tr style=\"text-align: right;\">\n",
       "      <th></th>\n",
       "      <th>pop_est</th>\n",
       "      <th>continent</th>\n",
       "      <th>name</th>\n",
       "      <th>iso_a3</th>\n",
       "      <th>gdp_md_est</th>\n",
       "      <th>geometry</th>\n",
       "    </tr>\n",
       "  </thead>\n",
       "  <tbody>\n",
       "    <tr>\n",
       "      <th>132</th>\n",
       "      <td>48958159</td>\n",
       "      <td>Europe</td>\n",
       "      <td>Spain</td>\n",
       "      <td>ESP</td>\n",
       "      <td>1690000.0</td>\n",
       "      <td>POLYGON ((-7.45373 37.09779, -7.53711 37.42890...</td>\n",
       "    </tr>\n",
       "  </tbody>\n",
       "</table>\n",
       "</div>"
      ],
      "text/plain": [
       "      pop_est continent   name iso_a3  gdp_md_est  \\\n",
       "132  48958159    Europe  Spain    ESP   1690000.0   \n",
       "\n",
       "                                              geometry  \n",
       "132  POLYGON ((-7.45373 37.09779, -7.53711 37.42890...  "
      ]
     },
     "execution_count": 7,
     "metadata": {},
     "output_type": "execute_result"
    }
   ],
   "source": [
    "world = gpd.read_file(gpd.datasets.get_path('naturalearth_lowres'))\n",
    "spain = world[world['name'] == ('Spain')]\n",
    "spain.head()"
   ]
  },
  {
   "cell_type": "code",
   "execution_count": 8,
   "metadata": {},
   "outputs": [
    {
     "data": {
      "image/png": "[encoded data removed]",
      "text/plain": [
       "<Figure size 432x288 with 1 Axes>"
      ]
     },
     "metadata": {
      "needs_background": "light"
     },
     "output_type": "display_data"
    }
   ],
   "source": [
    "fig, ax = plt.subplots()\n",
    "ax.set_aspect('equal')\n",
    "spain.plot(ax=ax, color='white', edgecolor='black')\n",
    "gdf_EEA.plot(ax=ax, marker='o', color='red', markersize=1)\n",
    "plt.title(\"Stations in the EEA dataset.\")\n",
    "\n",
    "plt.show();"
   ]
  },
  {
   "cell_type": "code",
   "execution_count": 40,
   "metadata": {},
   "outputs": [],
   "source": [
    "'''\n",
    "# export dataset to geojson\n",
    "gdf_EEA.to_file(\"../Datasets/gdf_EEA.geojson\", driver='GeoJSON')\n",
    "'''"
   ]
  },
  {
   "cell_type": "markdown",
   "metadata": {},
   "source": [
    "## Extra Data "
   ]
  },
  {
   "cell_type": "markdown",
   "metadata": {},
   "source": [
    "We had access to this dataset only subsequently, therefore we processed it in a second moment."
   ]
  },
  {
   "cell_type": "markdown",
   "metadata": {},
   "source": [
    "### Grid Spain "
   ]
  },
  {
   "cell_type": "code",
   "execution_count": 5,
   "metadata": {},
   "outputs": [],
   "source": [
    "grid = gpd.read_file(\"../EEA/2017Shapefile/Interpolation data 1 km grid/EEA_1kmgrid_2017.shp\")\n",
    "pd.set_option('display.max_columns', None)"
   ]
  },
  {
   "cell_type": "code",
   "execution_count": 6,
   "metadata": {},
   "outputs": [
    {
     "data": {
      "text/plain": [
       "array(['PT', 'ES', 'IS', 'UK', 'IE', 'FR', 'IM', 'JG', 'DK', 'AD', 'NO',\n",
       "       'BE', 'NL', 'CH', 'LU', 'DE', 'IT', 'MC', 'LI', 'AT', 'SE', 'CZ',\n",
       "       'SM', 'SI', 'HR', 'PL', 'MT', 'FI', 'BA', 'HU', 'SK', 'LV', 'RS',\n",
       "       'LT', 'EE', 'ME', 'AL', 'RO', 'GR', 'KS', 'MK', 'BG', 'CY', 'TR'],\n",
       "      dtype=object)"
      ]
     },
     "execution_count": 6,
     "metadata": {},
     "output_type": "execute_result"
    }
   ],
   "source": [
    "grid[\"COUNTRY\"].unique()"
   ]
  },
  {
   "cell_type": "code",
   "execution_count": 7,
   "metadata": {},
   "outputs": [
    {
     "data": {
      "text/plain": [
       "['OBJECTID',\n",
       " 'CellCode',\n",
       " 'EofOrigin',\n",
       " 'NofOrigin',\n",
       " 'POINT_X',\n",
       " 'POINT_Y',\n",
       " 'LAT',\n",
       " 'LON',\n",
       " 'CODE',\n",
       " 'COUNTRY',\n",
       " 'POPULATION',\n",
       " 'PM10_avg',\n",
       " 'PM10_p904',\n",
       " 'PM25_avg',\n",
       " 'O3_p932',\n",
       " 'O3_SOMO35',\n",
       " 'NO2_avg',\n",
       " 'dif_PM_avg',\n",
       " 'dif_PMp904',\n",
       " 'dif_PM25',\n",
       " 'dif_O3p932',\n",
       " 'dif_O3_S35',\n",
       " 'dif_NO2avg',\n",
       " 'weight_urb',\n",
       " 'weight_tr',\n",
       " 'NO2_avg_b',\n",
       " 'NO2_avg_ut',\n",
       " 'PM10_avg_b',\n",
       " 'PM10avg_ut',\n",
       " 'PM25_avg_b',\n",
       " 'PM25avg_ut',\n",
       " 'O3_S10',\n",
       " 'dif_O3_S10',\n",
       " 'geometry']"
      ]
     },
     "execution_count": 7,
     "metadata": {},
     "output_type": "execute_result"
    }
   ],
   "source": [
    "list(grid.columns)"
   ]
  },
  {
   "cell_type": "code",
   "execution_count": 8,
   "metadata": {},
   "outputs": [],
   "source": [
    "spain_grid = grid[grid['COUNTRY'] == 'ES']"
   ]
  },
  {
   "cell_type": "code",
   "execution_count": 9,
   "metadata": {},
   "outputs": [],
   "source": [
    "spain_grid = spain_grid.drop(['COUNTRY','OBJECTID','CellCode', 'PM10_avg', 'PM10_p904', 'PM25_avg', 'dif_PM_avg', 'dif_PMp904', \n",
    "                              'dif_PM25', 'PM10_avg_b', 'PM10avg_ut', 'PM25_avg_b', 'PM25avg_ut', 'POINT_X', 'POINT_Y','NO2_avg_b',\n",
    "                             'dif_O3p932', 'dif_NO2avg','dif_O3_S35', 'dif_O3_S10', 'POPULATION','EofOrigin', 'NofOrigin', 'CODE'], axis=1)"
   ]
  },
  {
   "cell_type": "markdown",
   "metadata": {},
   "source": [
    "#### Meaning columns\n",
    "\n",
    "EofOriginn/a (grid cell coordinate X-direction, right bottom corner of the cell)\n",
    "\n",
    "NofOriginn/a (grid cell coordinate Y-direction, right bottom corner of the cell)\n",
    "\n",
    "POINT_Xn/a (grid cell coordinate X-direction, centre of the cell) \n",
    "\n",
    "POINT_Yn/a (grid cell coordinate Y-direction, centre of the cell) \n",
    "\n",
    "LAT= latitude cell centre (DD = Decimal Degrees)\n",
    "\n",
    "LON= longitude cell centre (DD = Decimal Degrees)\n",
    "\n",
    "COUNTRYn/a\n",
    "\n",
    "POPULATION n/a (population in the grid cell)\n",
    "\n",
    "PM10_avg= PM10 annual average values\n",
    "\n",
    "PM10_p904= PM10 90.4 percentile of daily average\n",
    "\n",
    "PM25_avg= PM2.5 annual average values\n",
    "\n",
    "O3_p932= Ozone 93.2 percentile of daily maximum 8-hour running means\n",
    "\n",
    "O3_SOMO35= Ozone SOMO35 values\n",
    "\n",
    "NO2_avg= NO2 annual average values\n",
    "\n",
    "dif_PM_avg= Interannual difference in PM10 annual average values 2017-2016 \n",
    "\n",
    "dif_PMp904= Interannual difference in PM10 90.4 percentile of daily average 2017-2016 \n",
    "\n",
    "dif_PM25= Interannual difference in PM2.5 annual average values 2017-2016 \n",
    "\n",
    "dif_O3p932= Interannual difference in Ozone 93.2 percentile of daily maximum 8-hour running means 2017-2016 \n",
    "\n",
    "dif_O3_S35= Interannual difference in Ozone SOMO35 values 2017-2016 \n",
    "\n",
    "dif_NO2avg= Interannual difference in NO2 annual average values 2017-2016 \n",
    "\n",
    "weight_urbn/a (weight representing the ratio of the urban character of the cell)\n",
    "\n",
    "weight_trn/a (weight representing the ratio of areas exposed to traffic air quality in the cell)\n",
    "\n",
    "NO2_avg_bn/a (background grid layer of NO2 annual average for 2017)\n",
    "\n",
    "NO2_avg_utn/a urban traffic grid layer of NO2 annual average for 2017)\n",
    "\n",
    "PM10_avg_bn/a (background grid layer of PM10 annual average for 2017)\n",
    "\n",
    "PM10_avg_utn/a urban traffic grid layer of PM10 annual average for 2017)\n",
    "\n",
    "PM25_avg_bn/a (background grid layer of PM2.5 annual average for 2017)\n",
    "\n",
    "PM25_avg_utn/a urban traffic grid layer of OM2.5 annual average for 2017)\n",
    "\n",
    "O3_SOMO10= Ozone SOMO10 values\n",
    "\n",
    "dif_O3_S10= Interannual differences in Ozone SOMO10 values"
   ]
  },
  {
   "cell_type": "code",
   "execution_count": 10,
   "metadata": {},
   "outputs": [
    {
     "data": {
      "text/html": [
       "<div>\n",
       "<style scoped>\n",
       "    .dataframe tbody tr th:only-of-type {\n",
       "        vertical-align: middle;\n",
       "    }\n",
       "\n",
       "    .dataframe tbody tr th {\n",
       "        vertical-align: top;\n",
       "    }\n",
       "\n",
       "    .dataframe thead th {\n",
       "        text-align: right;\n",
       "    }\n",
       "</style>\n",
       "<table border=\"1\" class=\"dataframe\">\n",
       "  <thead>\n",
       "    <tr style=\"text-align: right;\">\n",
       "      <th></th>\n",
       "      <th>LAT</th>\n",
       "      <th>LON</th>\n",
       "      <th>O3_p932</th>\n",
       "      <th>O3_SOMO35</th>\n",
       "      <th>NO2_avg</th>\n",
       "      <th>weight_urb</th>\n",
       "      <th>weight_tr</th>\n",
       "      <th>NO2_avg_ut</th>\n",
       "      <th>O3_S10</th>\n",
       "      <th>geometry</th>\n",
       "    </tr>\n",
       "  </thead>\n",
       "  <tbody>\n",
       "    <tr>\n",
       "      <th>33280</th>\n",
       "      <td>-9.28496</td>\n",
       "      <td>42.8856</td>\n",
       "      <td>111.845</td>\n",
       "      <td>5387.27</td>\n",
       "      <td>2.744</td>\n",
       "      <td>0.0</td>\n",
       "      <td>0.0</td>\n",
       "      <td>11.975</td>\n",
       "      <td>22174.500000</td>\n",
       "      <td>POLYGON ((2760000.000 2399000.000, 2760000.000...</td>\n",
       "    </tr>\n",
       "    <tr>\n",
       "      <th>33281</th>\n",
       "      <td>-9.29662</td>\n",
       "      <td>42.9204</td>\n",
       "      <td>105.190</td>\n",
       "      <td>4304.51</td>\n",
       "      <td>2.655</td>\n",
       "      <td>0.0</td>\n",
       "      <td>0.0</td>\n",
       "      <td>12.170</td>\n",
       "      <td>21000.599609</td>\n",
       "      <td>POLYGON ((2760000.000 2403000.000, 2760000.000...</td>\n",
       "    </tr>\n",
       "    <tr>\n",
       "      <th>33718</th>\n",
       "      <td>-9.27014</td>\n",
       "      <td>42.8792</td>\n",
       "      <td>111.845</td>\n",
       "      <td>5387.27</td>\n",
       "      <td>2.775</td>\n",
       "      <td>0.0</td>\n",
       "      <td>0.0</td>\n",
       "      <td>11.954</td>\n",
       "      <td>22174.500000</td>\n",
       "      <td>POLYGON ((2761000.000 2398000.000, 2761000.000...</td>\n",
       "    </tr>\n",
       "    <tr>\n",
       "      <th>33719</th>\n",
       "      <td>-9.27305</td>\n",
       "      <td>42.8879</td>\n",
       "      <td>111.845</td>\n",
       "      <td>5387.27</td>\n",
       "      <td>0.942</td>\n",
       "      <td>0.0</td>\n",
       "      <td>0.0</td>\n",
       "      <td>11.968</td>\n",
       "      <td>22174.500000</td>\n",
       "      <td>POLYGON ((2761000.000 2399000.000, 2761000.000...</td>\n",
       "    </tr>\n",
       "    <tr>\n",
       "      <th>33720</th>\n",
       "      <td>-9.27596</td>\n",
       "      <td>42.8966</td>\n",
       "      <td>105.190</td>\n",
       "      <td>4304.51</td>\n",
       "      <td>0.541</td>\n",
       "      <td>0.0</td>\n",
       "      <td>0.0</td>\n",
       "      <td>11.999</td>\n",
       "      <td>21000.599609</td>\n",
       "      <td>POLYGON ((2761000.000 2400000.000, 2761000.000...</td>\n",
       "    </tr>\n",
       "  </tbody>\n",
       "</table>\n",
       "</div>"
      ],
      "text/plain": [
       "           LAT      LON  O3_p932  O3_SOMO35  NO2_avg  weight_urb  weight_tr  \\\n",
       "33280 -9.28496  42.8856  111.845    5387.27    2.744         0.0        0.0   \n",
       "33281 -9.29662  42.9204  105.190    4304.51    2.655         0.0        0.0   \n",
       "33718 -9.27014  42.8792  111.845    5387.27    2.775         0.0        0.0   \n",
       "33719 -9.27305  42.8879  111.845    5387.27    0.942         0.0        0.0   \n",
       "33720 -9.27596  42.8966  105.190    4304.51    0.541         0.0        0.0   \n",
       "\n",
       "       NO2_avg_ut        O3_S10  \\\n",
       "33280      11.975  22174.500000   \n",
       "33281      12.170  21000.599609   \n",
       "33718      11.954  22174.500000   \n",
       "33719      11.968  22174.500000   \n",
       "33720      11.999  21000.599609   \n",
       "\n",
       "                                                geometry  \n",
       "33280  POLYGON ((2760000.000 2399000.000, 2760000.000...  \n",
       "33281  POLYGON ((2760000.000 2403000.000, 2760000.000...  \n",
       "33718  POLYGON ((2761000.000 2398000.000, 2761000.000...  \n",
       "33719  POLYGON ((2761000.000 2399000.000, 2761000.000...  \n",
       "33720  POLYGON ((2761000.000 2400000.000, 2761000.000...  "
      ]
     },
     "execution_count": 10,
     "metadata": {},
     "output_type": "execute_result"
    }
   ],
   "source": [
    "spain_grid.head()"
   ]
  },
  {
   "cell_type": "markdown",
   "metadata": {},
   "source": [
    "#### Creating the coordinate (LAT, LON) and dropping the old columns"
   ]
  },
  {
   "cell_type": "code",
   "execution_count": 11,
   "metadata": {},
   "outputs": [],
   "source": [
    "spain_grid_up = gpd.GeoDataFrame(spain_grid, geometry=gpd.points_from_xy(spain_grid.LON, spain_grid.LAT))\n",
    "spain_grid_up = spain_grid_up.drop(['LAT','LON'],axis=1)"
   ]
  },
  {
   "cell_type": "code",
   "execution_count": 12,
   "metadata": {},
   "outputs": [
    {
     "data": {
      "text/html": [
       "<div>\n",
       "<style scoped>\n",
       "    .dataframe tbody tr th:only-of-type {\n",
       "        vertical-align: middle;\n",
       "    }\n",
       "\n",
       "    .dataframe tbody tr th {\n",
       "        vertical-align: top;\n",
       "    }\n",
       "\n",
       "    .dataframe thead th {\n",
       "        text-align: right;\n",
       "    }\n",
       "</style>\n",
       "<table border=\"1\" class=\"dataframe\">\n",
       "  <thead>\n",
       "    <tr style=\"text-align: right;\">\n",
       "      <th></th>\n",
       "      <th>O3_p932</th>\n",
       "      <th>O3_SOMO35</th>\n",
       "      <th>NO2_avg</th>\n",
       "      <th>weight_urb</th>\n",
       "      <th>weight_tr</th>\n",
       "      <th>NO2_avg_ut</th>\n",
       "      <th>O3_S10</th>\n",
       "      <th>geometry</th>\n",
       "    </tr>\n",
       "  </thead>\n",
       "  <tbody>\n",
       "    <tr>\n",
       "      <th>33280</th>\n",
       "      <td>111.845</td>\n",
       "      <td>5387.27</td>\n",
       "      <td>2.744</td>\n",
       "      <td>0.0</td>\n",
       "      <td>0.0</td>\n",
       "      <td>11.975</td>\n",
       "      <td>22174.500000</td>\n",
       "      <td>POINT (42.88560 -9.28496)</td>\n",
       "    </tr>\n",
       "    <tr>\n",
       "      <th>33281</th>\n",
       "      <td>105.190</td>\n",
       "      <td>4304.51</td>\n",
       "      <td>2.655</td>\n",
       "      <td>0.0</td>\n",
       "      <td>0.0</td>\n",
       "      <td>12.170</td>\n",
       "      <td>21000.599609</td>\n",
       "      <td>POINT (42.92040 -9.29662)</td>\n",
       "    </tr>\n",
       "    <tr>\n",
       "      <th>33718</th>\n",
       "      <td>111.845</td>\n",
       "      <td>5387.27</td>\n",
       "      <td>2.775</td>\n",
       "      <td>0.0</td>\n",
       "      <td>0.0</td>\n",
       "      <td>11.954</td>\n",
       "      <td>22174.500000</td>\n",
       "      <td>POINT (42.87920 -9.27014)</td>\n",
       "    </tr>\n",
       "    <tr>\n",
       "      <th>33719</th>\n",
       "      <td>111.845</td>\n",
       "      <td>5387.27</td>\n",
       "      <td>0.942</td>\n",
       "      <td>0.0</td>\n",
       "      <td>0.0</td>\n",
       "      <td>11.968</td>\n",
       "      <td>22174.500000</td>\n",
       "      <td>POINT (42.88790 -9.27305)</td>\n",
       "    </tr>\n",
       "    <tr>\n",
       "      <th>33720</th>\n",
       "      <td>105.190</td>\n",
       "      <td>4304.51</td>\n",
       "      <td>0.541</td>\n",
       "      <td>0.0</td>\n",
       "      <td>0.0</td>\n",
       "      <td>11.999</td>\n",
       "      <td>21000.599609</td>\n",
       "      <td>POINT (42.89660 -9.27596)</td>\n",
       "    </tr>\n",
       "  </tbody>\n",
       "</table>\n",
       "</div>"
      ],
      "text/plain": [
       "       O3_p932  O3_SOMO35  NO2_avg  weight_urb  weight_tr  NO2_avg_ut  \\\n",
       "33280  111.845    5387.27    2.744         0.0        0.0      11.975   \n",
       "33281  105.190    4304.51    2.655         0.0        0.0      12.170   \n",
       "33718  111.845    5387.27    2.775         0.0        0.0      11.954   \n",
       "33719  111.845    5387.27    0.942         0.0        0.0      11.968   \n",
       "33720  105.190    4304.51    0.541         0.0        0.0      11.999   \n",
       "\n",
       "             O3_S10                   geometry  \n",
       "33280  22174.500000  POINT (42.88560 -9.28496)  \n",
       "33281  21000.599609  POINT (42.92040 -9.29662)  \n",
       "33718  22174.500000  POINT (42.87920 -9.27014)  \n",
       "33719  22174.500000  POINT (42.88790 -9.27305)  \n",
       "33720  21000.599609  POINT (42.89660 -9.27596)  "
      ]
     },
     "execution_count": 12,
     "metadata": {},
     "output_type": "execute_result"
    }
   ],
   "source": [
    "spain_grid_up.head()"
   ]
  },
  {
   "cell_type": "markdown",
   "metadata": {},
   "source": [
    "#### Exporting Dataset"
   ]
  },
  {
   "cell_type": "code",
   "execution_count": 15,
   "metadata": {},
   "outputs": [],
   "source": [
    "spain_grid_up.to_file(\"../Datasets/spain_grid.geojson\", driver='GeoJSON')"
   ]
  }
 ],
 "metadata": {
  "kernelspec": {
   "display_name": "Python 3",
   "language": "python",
   "name": "python3"
  },
  "language_info": {
   "codemirror_mode": {
    "name": "ipython",
    "version": 3
   },
   "file_extension": ".py",
   "mimetype": "text/x-python",
   "name": "python",
   "nbconvert_exporter": "python",
   "pygments_lexer": "ipython3",
   "version": "3.7.6"
  }
 },
 "nbformat": 4,
 "nbformat_minor": 4
}
