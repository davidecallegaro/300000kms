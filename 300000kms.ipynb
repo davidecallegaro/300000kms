{
 "cells": [
  {
   "cell_type": "markdown",
   "metadata": {},
   "source": [
    "Project\n",
    "======="
   ]
  },
  {
   "cell_type": "markdown",
   "metadata": {},
   "source": [
    "### Libraries"
   ]
  },
  {
   "cell_type": "code",
   "execution_count": 28,
   "metadata": {},
   "outputs": [],
   "source": [
    "import osmnx as ox\n",
    "import networkx as nx\n",
    "import geopandas as gpd\n",
    "import pandas as pd\n",
    "import numpy as np"
   ]
  },
  {
   "cell_type": "markdown",
   "metadata": {},
   "source": [
    "### WAQI"
   ]
  },
  {
   "cell_type": "code",
   "execution_count": 24,
   "metadata": {},
   "outputs": [],
   "source": [
    "waqi_2015H1 = pd.read_csv('waqi-covid-2015H1.csv',sep=',', comment='#')\n",
    "waqi_2016H1 = pd.read_csv('waqi-covid-2016H1.csv',sep=',', comment='#')\n",
    "waqi_2017H1 = pd.read_csv('waqi-covid-2017H1.csv',sep=',', comment='#')\n",
    "waqi_2018H1 = pd.read_csv('waqi-covid-2018H1.csv',sep=',', comment='#')\n",
    "waqi_2019Q1 = pd.read_csv('waqi-covid-2019Q1.csv',sep=',', comment='#')\n",
    "waqi_2019Q2 = pd.read_csv('waqi-covid-2019Q2.csv',sep=',', comment='#')\n",
    "waqi_2019Q3 = pd.read_csv('waqi-covid-2019Q3.csv',sep=',', comment='#')\n",
    "waqi_2019Q4 = pd.read_csv('waqi-covid-2019Q4.csv',sep=',', comment='#')\n",
    "waqi_2020 = pd.read_csv('waqi-covid-2020.csv',sep=',', comment='#')"
   ]
  },
  {
   "cell_type": "markdown",
   "metadata": {},
   "source": [
    "#### WAQI Barcelona"
   ]
  },
  {
   "cell_type": "code",
   "execution_count": 25,
   "metadata": {
    "scrolled": true
   },
   "outputs": [],
   "source": [
    "waqi_2015H1B = waqi_2015H1[waqi_2015H1['City'] == 'Barcelona']\n",
    "waqi_2016H1B = waqi_2016H1[waqi_2016H1['City'] == 'Barcelona']\n",
    "waqi_2017H1B = waqi_2017H1[waqi_2017H1['City'] == 'Barcelona']\n",
    "waqi_2018H1B = waqi_2018H1[waqi_2018H1['City'] == 'Barcelona']\n",
    "waqi_2019Q1B = waqi_2019Q1[waqi_2019Q1['City'] == 'Barcelona']\n",
    "waqi_2019Q2B = waqi_2019Q2[waqi_2019Q2['City'] == 'Barcelona']\n",
    "waqi_2019Q3B = waqi_2019Q3[waqi_2019Q3['City'] == 'Barcelona']\n",
    "waqi_2019Q4B = waqi_2019Q4[waqi_2019Q4['City'] == 'Barcelona']\n",
    "waqi_2020B = waqi_2020[waqi_2020['City'] == 'Barcelona']"
   ]
  },
  {
   "cell_type": "code",
   "execution_count": 31,
   "metadata": {},
   "outputs": [],
   "source": [
    "waqiB = pd.concat([waqi_2015H1B,waqi_2016H1B,waqi_2017H1B,waqi_2018H1B,waqi_2019Q1B,waqi_2019Q2B,waqi_2019Q3B,waqi_2019Q4B,waqi_2020B]).sort_values(by='Date')\n",
    "waqiB.index = np.arange(1, len(waqiB)+1)"
   ]
  },
  {
   "cell_type": "markdown",
   "metadata": {},
   "source": [
    "#### OSX Maps"
   ]
  },
  {
   "cell_type": "code",
   "execution_count": null,
   "metadata": {
    "scrolled": true
   },
   "outputs": [],
   "source": [
    "place = 'Barcelona, Spain'\n",
    "city = ox.gdf_from_place(place)\n",
    "ox.plot_shape(ox.project_gdf(city))"
   ]
  },
  {
   "cell_type": "code",
   "execution_count": null,
   "metadata": {},
   "outputs": [],
   "source": [
    "graph = ox.graph_from_place('Barcelona, Spain', network_type=’drive’)\n",
    "nodes, streets = ox.graph_to_gdfs(graph)streets.head()"
   ]
  },
  {
   "cell_type": "code",
   "execution_count": null,
   "metadata": {
    "scrolled": true
   },
   "outputs": [],
   "source": [
    "nodes, streets = ox.graph_to_gdfs(graph)\n",
    "G = nx.read_gml('A.ES.SDGC.CP.07002.cadastralparcel.gml')"
   ]
  },
  {
   "cell_type": "code",
   "execution_count": null,
   "metadata": {},
   "outputs": [],
   "source": []
  }
 ],
 "metadata": {
  "kernelspec": {
   "display_name": "Python 3",
   "language": "python",
   "name": "python3"
  },
  "language_info": {
   "codemirror_mode": {
    "name": "ipython",
    "version": 3
   },
   "file_extension": ".py",
   "mimetype": "text/x-python",
   "name": "python",
   "nbconvert_exporter": "python",
   "pygments_lexer": "ipython3",
   "version": "3.7.7"
  }
 },
 "nbformat": 4,
 "nbformat_minor": 2
}
